{
  "nbformat": 4,
  "nbformat_minor": 0,
  "metadata": {
    "colab": {
      "provenance": [],
      "gpuType": "T4"
    },
    "kernelspec": {
      "name": "python3",
      "display_name": "Python 3"
    },
    "language_info": {
      "name": "python"
    },
    "accelerator": "GPU"
  },
  "cells": [
    {
      "cell_type": "code",
      "source": [
        "import pandas as pd\n",
        "import numpy as np\n",
        "from tensorflow.keras import datasets\n",
        "\n",
        "# Load CIFAR-10 dataset\n",
        "(x_train, y_train), (x_test, y_test) = datasets.cifar10.load_data()\n",
        "\n",
        "# Create DataFrames for the labels\n",
        "train_labels_df = pd.DataFrame(y_train, columns=[\"Label\"])\n",
        "test_labels_df = pd.DataFrame(y_test, columns=[\"Label\"])\n",
        "\n",
        "# Label descriptions (CIFAR-10 classes)\n",
        "label_names = {\n",
        "    0: \"Airplane\", 1: \"Automobile\", 2: \"Bird\", 3: \"Cat\",\n",
        "    4: \"Deer\", 5: \"Dog\", 6: \"Frog\", 7: \"Horse\",\n",
        "    8: \"Ship\", 9: \"Truck\"\n",
        "}\n",
        "\n",
        "# Add descriptive labels to the DataFrame\n",
        "train_labels_df[\"Label_Description\"] = train_labels_df[\"Label\"].map(label_names)\n",
        "test_labels_df[\"Label_Description\"] = test_labels_df[\"Label\"].map(label_names)\n",
        "\n",
        "# Calculate class distributions\n",
        "train_distribution = train_labels_df[\"Label_Description\"].value_counts()\n",
        "test_distribution = test_labels_df[\"Label_Description\"].value_counts()\n",
        "\n",
        "# Display image dimensions and dataset sizes\n",
        "train_shape = x_train.shape\n",
        "test_shape = x_test.shape\n",
        "\n",
        "# Summarize dataset information\n",
        "summary = {\n",
        "    \"Dataset\": [\"Training\", \"Testing\"],\n",
        "    \"Number of Samples\": [train_shape[0], test_shape[0]],\n",
        "    \"Image Dimensions\": [f\"{train_shape[1]}x{train_shape[2]}x{train_shape[3]}\",\n",
        "                          f\"{test_shape[1]}x{test_shape[2]}x{test_shape[3]}\"]\n",
        "}\n",
        "\n",
        "summary_df = pd.DataFrame(summary)\n",
        "\n",
        "# Display results\n",
        "print(\"CIFAR-10 Dataset Summary:\")\n",
        "print(summary_df)\n",
        "print(\"\\nTraining Data Label Distribution:\")\n",
        "print(train_distribution)\n",
        "print(\"\\nTesting Data Label Distribution:\")\n",
        "print(test_distribution)\n"
      ],
      "metadata": {
        "colab": {
          "base_uri": "https://localhost:8080/"
        },
        "id": "ca1jC42fn-Pt",
        "outputId": "f409e21b-9389-4e7d-ca65-2c909d0869c2"
      },
      "execution_count": 1,
      "outputs": [
        {
          "output_type": "stream",
          "name": "stdout",
          "text": [
            "CIFAR-10 Dataset Summary:\n",
            "    Dataset  Number of Samples Image Dimensions\n",
            "0  Training              50000          32x32x3\n",
            "1   Testing              10000          32x32x3\n",
            "\n",
            "Training Data Label Distribution:\n",
            "Label_Description\n",
            "Frog          5000\n",
            "Truck         5000\n",
            "Deer          5000\n",
            "Automobile    5000\n",
            "Bird          5000\n",
            "Horse         5000\n",
            "Ship          5000\n",
            "Cat           5000\n",
            "Dog           5000\n",
            "Airplane      5000\n",
            "Name: count, dtype: int64\n",
            "\n",
            "Testing Data Label Distribution:\n",
            "Label_Description\n",
            "Cat           1000\n",
            "Ship          1000\n",
            "Airplane      1000\n",
            "Frog          1000\n",
            "Automobile    1000\n",
            "Truck         1000\n",
            "Dog           1000\n",
            "Horse         1000\n",
            "Deer          1000\n",
            "Bird          1000\n",
            "Name: count, dtype: int64\n"
          ]
        }
      ]
    },
    {
      "cell_type": "code",
      "source": [
        "x_train.shape"
      ],
      "metadata": {
        "colab": {
          "base_uri": "https://localhost:8080/"
        },
        "id": "OGKMtcUepKIp",
        "outputId": "d9ad161c-33b0-42fb-b1c7-67c911f4872c"
      },
      "execution_count": 2,
      "outputs": [
        {
          "output_type": "execute_result",
          "data": {
            "text/plain": [
              "(50000, 32, 32, 3)"
            ]
          },
          "metadata": {},
          "execution_count": 2
        }
      ]
    },
    {
      "cell_type": "code",
      "source": [
        "y_train.shape"
      ],
      "metadata": {
        "colab": {
          "base_uri": "https://localhost:8080/"
        },
        "id": "S2D2Opb6pNYA",
        "outputId": "517152fd-06fc-4075-8aad-bdeba29f5655"
      },
      "execution_count": 3,
      "outputs": [
        {
          "output_type": "execute_result",
          "data": {
            "text/plain": [
              "(50000, 1)"
            ]
          },
          "metadata": {},
          "execution_count": 3
        }
      ]
    },
    {
      "cell_type": "code",
      "source": [
        "x_test.shape"
      ],
      "metadata": {
        "colab": {
          "base_uri": "https://localhost:8080/"
        },
        "id": "gCx-F8BspPnT",
        "outputId": "d4c3a0ab-3fdc-4e87-8212-e0603da5af47"
      },
      "execution_count": 4,
      "outputs": [
        {
          "output_type": "execute_result",
          "data": {
            "text/plain": [
              "(10000, 32, 32, 3)"
            ]
          },
          "metadata": {},
          "execution_count": 4
        }
      ]
    },
    {
      "cell_type": "code",
      "source": [
        "y_test.shape"
      ],
      "metadata": {
        "colab": {
          "base_uri": "https://localhost:8080/"
        },
        "id": "ckSQGr7dpR_W",
        "outputId": "42a52565-d422-4927-dea7-d43c3b515625"
      },
      "execution_count": 5,
      "outputs": [
        {
          "output_type": "execute_result",
          "data": {
            "text/plain": [
              "(10000, 1)"
            ]
          },
          "metadata": {},
          "execution_count": 5
        }
      ]
    },
    {
      "cell_type": "code",
      "source": [
        "label_names"
      ],
      "metadata": {
        "colab": {
          "base_uri": "https://localhost:8080/"
        },
        "id": "Qb5HBys4pW43",
        "outputId": "b8b27db3-4ebc-4df2-99d0-bb46f586be46"
      },
      "execution_count": 6,
      "outputs": [
        {
          "output_type": "execute_result",
          "data": {
            "text/plain": [
              "{0: 'Airplane',\n",
              " 1: 'Automobile',\n",
              " 2: 'Bird',\n",
              " 3: 'Cat',\n",
              " 4: 'Deer',\n",
              " 5: 'Dog',\n",
              " 6: 'Frog',\n",
              " 7: 'Horse',\n",
              " 8: 'Ship',\n",
              " 9: 'Truck'}"
            ]
          },
          "metadata": {},
          "execution_count": 6
        }
      ]
    },
    {
      "cell_type": "code",
      "source": [
        "import matplotlib.pyplot as plt\n",
        "# Visualize a few training images\n",
        "def plot_sample_images(images, labels, label_names, num_rows=2, num_cols=5):\n",
        "    plt.figure(figsize=(10, 5))\n",
        "    for i in range(num_rows * num_cols):\n",
        "        plt.subplot(num_rows, num_cols, i + 1)\n",
        "        plt.imshow(images[i])\n",
        "        plt.title(label_names[int(labels[i])])\n",
        "        plt.axis('off')\n",
        "    plt.show()\n"
      ],
      "metadata": {
        "id": "48NlvfDnnH7m"
      },
      "execution_count": 7,
      "outputs": []
    },
    {
      "cell_type": "code",
      "source": [
        "print(\"\\\\nSample Images:\")\n",
        "plot_sample_images(x_train, y_train, label_names)"
      ],
      "metadata": {
        "colab": {
          "base_uri": "https://localhost:8080/",
          "height": 476
        },
        "id": "5OiY6khRqCjv",
        "outputId": "118de245-7c49-46eb-d4ff-3f1ade018691"
      },
      "execution_count": 8,
      "outputs": [
        {
          "output_type": "stream",
          "name": "stdout",
          "text": [
            "\\nSample Images:\n"
          ]
        },
        {
          "output_type": "stream",
          "name": "stderr",
          "text": [
            "<ipython-input-7-f616e1f3ea2f>:8: DeprecationWarning: Conversion of an array with ndim > 0 to a scalar is deprecated, and will error in future. Ensure you extract a single element from your array before performing this operation. (Deprecated NumPy 1.25.)\n",
            "  plt.title(label_names[int(labels[i])])\n"
          ]
        },
        {
          "output_type": "display_data",
          "data": {
            "text/plain": [
              "<Figure size 1000x500 with 10 Axes>"
            ],
            "image/png": "[encoded data removed]"
          },
          "metadata": {}
        }
      ]
    },
    {
      "cell_type": "code",
      "source": [
        "def plot_class_distribution(labels, label_names):\n",
        "    unique, counts = np.unique(labels, return_counts=True)\n",
        "\n",
        "    # Convert label_names dictionary to a list of its values\n",
        "    label_names_list = list(label_names.values())\n",
        "\n",
        "    plt.figure(figsize=(8, 4))\n",
        "    # Use range(len(label_names_list)) for x-axis positions\n",
        "    plt.bar(range(len(label_names_list)), counts, color='skyblue', tick_label=label_names_list)\n",
        "    plt.title(\"Class Distribution in CIFAR-10 Dataset\")\n",
        "    plt.xlabel(\"Class\")\n",
        "    plt.ylabel(\"Frequency\")\n",
        "    plt.xticks(rotation=45, ha='right')  # Rotate x-axis labels for better readability\n",
        "    plt.show()"
      ],
      "metadata": {
        "id": "K36Ohl6hnJpD"
      },
      "execution_count": 9,
      "outputs": []
    },
    {
      "cell_type": "code",
      "source": [
        "print(\"\\\\nClass Distribution:\")\n",
        "plot_class_distribution(y_train,label_names)"
      ],
      "metadata": {
        "colab": {
          "base_uri": "https://localhost:8080/",
          "height": 480
        },
        "id": "MklVkwwYqInF",
        "outputId": "d8979cea-71c4-4d9d-fb17-78dd9c09bd13"
      },
      "execution_count": 10,
      "outputs": [
        {
          "output_type": "stream",
          "name": "stdout",
          "text": [
            "\\nClass Distribution:\n"
          ]
        },
        {
          "output_type": "display_data",
          "data": {
            "text/plain": [
              "<Figure size 800x400 with 1 Axes>"
            ],
            "image/png": "[encoded data removed]"
          },
          "metadata": {}
        }
      ]
    },
    {
      "cell_type": "markdown",
      "source": [
        "## Model Training"
      ],
      "metadata": {
        "id": "YLJ2sVaDUxMy"
      }
    },
    {
      "cell_type": "code",
      "source": [
        "# Install necessary packages\n",
        "\n",
        "import tensorflow as tf\n",
        "from tensorflow.keras import datasets, layers, models\n",
        "from sklearn.metrics import accuracy_score, classification_report, confusion_matrix\n",
        "import matplotlib.pyplot as plt\n",
        "import numpy as np"
      ],
      "metadata": {
        "id": "MkYgYybUUrfM"
      },
      "execution_count": 11,
      "outputs": []
    },
    {
      "cell_type": "code",
      "source": [
        "# Load and preprocess the CIFAR-10 dataset\n",
        "(train_images, train_labels), (test_images, test_labels) = datasets.cifar10.load_data()\n",
        "train_images, test_images = train_images / 255.0, test_images / 255.0"
      ],
      "metadata": {
        "id": "oUaGMT_YUrio"
      },
      "execution_count": 12,
      "outputs": []
    },
    {
      "cell_type": "code",
      "source": [
        "\n",
        "# Define a function to create a model\n",
        "def create_model(base_model):\n",
        "    model = models.Sequential()\n",
        "    model.add(base_model)\n",
        "    model.add(layers.GlobalAveragePooling2D())\n",
        "    model.add(layers.Dense(10, activation='softmax'))\n",
        "    return model\n"
      ],
      "metadata": {
        "id": "YcGfqGMlUrlc"
      },
      "execution_count": 13,
      "outputs": []
    },
    {
      "cell_type": "code",
      "source": [
        "resnet_model= create_model(tf.keras.applications.ResNet50(\n",
        "    weights='imagenet',\n",
        "    include_top=False,\n",
        "    input_shape=(32, 32, 3)\n",
        "))"
      ],
      "metadata": {
        "id": "vua5TutrbF9w"
      },
      "execution_count": 14,
      "outputs": []
    },
    {
      "cell_type": "code",
      "source": [
        "# Train models\n",
        "def train_model(model, preprocess_func, train_data, train_labels, test_data, test_labels):\n",
        "    model.compile(optimizer='adam', loss='sparse_categorical_crossentropy', metrics=['accuracy'])\n",
        "    model.summary()\n",
        "\n",
        "    # Preprocess images\n",
        "    train_data_preprocessed = preprocess_func(train_data)\n",
        "    test_data_preprocessed = preprocess_func(test_data)\n",
        "\n",
        "    # Train the model\n",
        "    model.fit(train_data_preprocessed, train_labels, epochs=5, validation_data=(test_data_preprocessed, test_labels))\n",
        "\n",
        "\n",
        "train_model(resnet_model, tf.keras.applications.resnet50.preprocess_input, train_images, train_labels, test_images, test_labels)\n"
      ],
      "metadata": {
        "colab": {
          "base_uri": "https://localhost:8080/",
          "height": 277
        },
        "id": "GjyGhq4ni42o",
        "outputId": "b63dada3-8102-472d-fc4c-b1f4ef3e76d1"
      },
      "execution_count": null,
      "outputs": [
        {
          "output_type": "display_data",
          "data": {
            "text/plain": [
              "\u001b[1mModel: \"sequential\"\u001b[0m\n"
            ],
            "text/html": [
              "<pre style=\"white-space:pre;overflow-x:auto;line-height:normal;font-family:Menlo,'DejaVu Sans Mono',consolas,'Courier New',monospace\"><span style=\"font-weight: bold\">Model: \"sequential\"</span>\n",
              "</pre>\n"
            ]
          },
          "metadata": {}
        },
        {
          "output_type": "display_data",
          "data": {
            "text/plain": [
              "┏━━━━━━━━━━━━━━━━━━━━━━━━━━━━━━━━━━━━━━┳━━━━━━━━━━━━━━━━━━━━━━━━━━━━━┳━━━━━━━━━━━━━━━━━┓\n",
              "┃\u001b[1m \u001b[0m\u001b[1mLayer (type)                        \u001b[0m\u001b[1m \u001b[0m┃\u001b[1m \u001b[0m\u001b[1mOutput Shape               \u001b[0m\u001b[1m \u001b[0m┃\u001b[1m \u001b[0m\u001b[1m        Param #\u001b[0m\u001b[1m \u001b[0m┃\n",
              "┡━━━━━━━━━━━━━━━━━━━━━━━━━━━━━━━━━━━━━━╇━━━━━━━━━━━━━━━━━━━━━━━━━━━━━╇━━━━━━━━━━━━━━━━━┩\n",
              "│ resnet50 (\u001b[38;5;33mFunctional\u001b[0m)                │ (\u001b[38;5;45mNone\u001b[0m, \u001b[38;5;34m1\u001b[0m, \u001b[38;5;34m1\u001b[0m, \u001b[38;5;34m2048\u001b[0m)          │      \u001b[38;5;34m23,587,712\u001b[0m │\n",
              "├──────────────────────────────────────┼─────────────────────────────┼─────────────────┤\n",
              "│ global_average_pooling2d             │ (\u001b[38;5;45mNone\u001b[0m, \u001b[38;5;34m2048\u001b[0m)                │               \u001b[38;5;34m0\u001b[0m │\n",
              "│ (\u001b[38;5;33mGlobalAveragePooling2D\u001b[0m)             │                             │                 │\n",
              "├──────────────────────────────────────┼─────────────────────────────┼─────────────────┤\n",
              "│ dense (\u001b[38;5;33mDense\u001b[0m)                        │ (\u001b[38;5;45mNone\u001b[0m, \u001b[38;5;34m10\u001b[0m)                  │          \u001b[38;5;34m20,490\u001b[0m │\n",
              "└──────────────────────────────────────┴─────────────────────────────┴─────────────────┘\n"
            ],
            "text/html": [
              "<pre style=\"white-space:pre;overflow-x:auto;line-height:normal;font-family:Menlo,'DejaVu Sans Mono',consolas,'Courier New',monospace\">┏━━━━━━━━━━━━━━━━━━━━━━━━━━━━━━━━━━━━━━┳━━━━━━━━━━━━━━━━━━━━━━━━━━━━━┳━━━━━━━━━━━━━━━━━┓\n",
              "┃<span style=\"font-weight: bold\"> Layer (type)                         </span>┃<span style=\"font-weight: bold\"> Output Shape                </span>┃<span style=\"font-weight: bold\">         Param # </span>┃\n",
              "┡━━━━━━━━━━━━━━━━━━━━━━━━━━━━━━━━━━━━━━╇━━━━━━━━━━━━━━━━━━━━━━━━━━━━━╇━━━━━━━━━━━━━━━━━┩\n",
              "│ resnet50 (<span style=\"color: #0087ff; text-decoration-color: #0087ff\">Functional</span>)                │ (<span style=\"color: #00d7ff; text-decoration-color: #00d7ff\">None</span>, <span style=\"color: #00af00; text-decoration-color: #00af00\">1</span>, <span style=\"color: #00af00; text-decoration-color: #00af00\">1</span>, <span style=\"color: #00af00; text-decoration-color: #00af00\">2048</span>)          │      <span style=\"color: #00af00; text-decoration-color: #00af00\">23,587,712</span> │\n",
              "├──────────────────────────────────────┼─────────────────────────────┼─────────────────┤\n",
              "│ global_average_pooling2d             │ (<span style=\"color: #00d7ff; text-decoration-color: #00d7ff\">None</span>, <span style=\"color: #00af00; text-decoration-color: #00af00\">2048</span>)                │               <span style=\"color: #00af00; text-decoration-color: #00af00\">0</span> │\n",
              "│ (<span style=\"color: #0087ff; text-decoration-color: #0087ff\">GlobalAveragePooling2D</span>)             │                             │                 │\n",
              "├──────────────────────────────────────┼─────────────────────────────┼─────────────────┤\n",
              "│ dense (<span style=\"color: #0087ff; text-decoration-color: #0087ff\">Dense</span>)                        │ (<span style=\"color: #00d7ff; text-decoration-color: #00d7ff\">None</span>, <span style=\"color: #00af00; text-decoration-color: #00af00\">10</span>)                  │          <span style=\"color: #00af00; text-decoration-color: #00af00\">20,490</span> │\n",
              "└──────────────────────────────────────┴─────────────────────────────┴─────────────────┘\n",
              "</pre>\n"
            ]
          },
          "metadata": {}
        },
        {
          "output_type": "display_data",
          "data": {
            "text/plain": [
              "\u001b[1m Total params: \u001b[0m\u001b[38;5;34m23,608,202\u001b[0m (90.06 MB)\n"
            ],
            "text/html": [
              "<pre style=\"white-space:pre;overflow-x:auto;line-height:normal;font-family:Menlo,'DejaVu Sans Mono',consolas,'Courier New',monospace\"><span style=\"font-weight: bold\"> Total params: </span><span style=\"color: #00af00; text-decoration-color: #00af00\">23,608,202</span> (90.06 MB)\n",
              "</pre>\n"
            ]
          },
          "metadata": {}
        },
        {
          "output_type": "display_data",
          "data": {
            "text/plain": [
              "\u001b[1m Trainable params: \u001b[0m\u001b[38;5;34m23,555,082\u001b[0m (89.86 MB)\n"
            ],
            "text/html": [
              "<pre style=\"white-space:pre;overflow-x:auto;line-height:normal;font-family:Menlo,'DejaVu Sans Mono',consolas,'Courier New',monospace\"><span style=\"font-weight: bold\"> Trainable params: </span><span style=\"color: #00af00; text-decoration-color: #00af00\">23,555,082</span> (89.86 MB)\n",
              "</pre>\n"
            ]
          },
          "metadata": {}
        },
        {
          "output_type": "display_data",
          "data": {
            "text/plain": [
              "\u001b[1m Non-trainable params: \u001b[0m\u001b[38;5;34m53,120\u001b[0m (207.50 KB)\n"
            ],
            "text/html": [
              "<pre style=\"white-space:pre;overflow-x:auto;line-height:normal;font-family:Menlo,'DejaVu Sans Mono',consolas,'Courier New',monospace\"><span style=\"font-weight: bold\"> Non-trainable params: </span><span style=\"color: #00af00; text-decoration-color: #00af00\">53,120</span> (207.50 KB)\n",
              "</pre>\n"
            ]
          },
          "metadata": {}
        },
        {
          "output_type": "stream",
          "name": "stdout",
          "text": [
            "Epoch 1/5\n",
            "\u001b[1m 234/1563\u001b[0m \u001b[32m━━\u001b[0m\u001b[37m━━━━━━━━━━━━━━━━━━\u001b[0m \u001b[1m36s\u001b[0m 28ms/step - accuracy: 0.1312 - loss: 2.7218"
          ]
        }
      ]
    },
    {
      "cell_type": "code",
      "source": [
        "# Evaluate models\n",
        "def evaluate_model(model, preprocess_func, test_data, test_labels):\n",
        "    test_data_preprocessed = preprocess_func(test_data)\n",
        "    predictions = model.predict(test_data_preprocessed)\n",
        "    y_pred = np.argmax(predictions, axis=1)\n",
        "\n",
        "    acc = accuracy_score(test_labels, y_pred)\n",
        "    print(f'\\nAccuracy: {acc:.4f}')\n",
        "\n",
        "    print('\\nClassification Report:')\n",
        "    print(classification_report(test_labels, y_pred))\n",
        "\n",
        "    print('\\nConfusion Matrix:')\n",
        "    print(confusion_matrix(test_labels, y_pred))\n",
        "\n",
        "print('\\nResNet Model Evaluation:')\n",
        "evaluate_model(resnet_model, tf.keras.applications.resnet50.preprocess_input, test_images, test_labels)\n"
      ],
      "metadata": {
        "id": "GHzExMbAa9Pg"
      },
      "execution_count": null,
      "outputs": []
    },
    {
      "cell_type": "code",
      "source": [
        "# Step 7: Evaluate the Model\n",
        "test_loss, test_accuracy = resnet_model.evaluate(test_images, test_labels)\n",
        "print(f'Test Accuracy: {test_accuracy:.4f}')"
      ],
      "metadata": {
        "id": "lle5PHI_bbRH"
      },
      "execution_count": null,
      "outputs": []
    },
    {
      "cell_type": "code",
      "source": [
        "from tensorflow.keras.preprocessing.image import load_img, img_to_array\n",
        "import numpy as np\n",
        "import matplotlib.pyplot as plt\n",
        "\n",
        "# Step 1: Load and preprocess the image\n",
        "def load_and_preprocess_image(image_path, input_size=(32, 32)):\n",
        "    \"\"\"\n",
        "    Load an image, resize it, and preprocess for prediction.\n",
        "    \"\"\"\n",
        "    # Load and resize the image\n",
        "    image = load_img(image_path, target_size=input_size)  # Resizing for the model\n",
        "    image = img_to_array(image)  # Convert to numpy array\n",
        "    image = np.expand_dims(image, axis=0)  # Add batch dimension\n",
        "\n",
        "    # Preprocess the image (adjust this based on the model)\n",
        "    image = image / 255.0  # CIFAR-10 normalization\n",
        "    return image\n",
        "\n",
        "# Step 2: Make predictions\n",
        "def predict_image(model, image, class_names):\n",
        "    \"\"\"\n",
        "    Predict the class of the input image and return the result.\n",
        "    \"\"\"\n",
        "    predictions = model.predict(image)\n",
        "    predicted_class = np.argmax(predictions, axis=1)[0]\n",
        "    confidence = np.max(predictions)\n",
        "    return class_names[predicted_class], confidence\n",
        "\n",
        "# CIFAR-10 class names\n",
        "cifar10_classes = ['Airplane', 'Automobile', 'Bird', 'Cat', 'Deer',\n",
        "                   'Dog', 'Frog', 'Horse', 'Ship', 'Truck']\n",
        "\n",
        "# Path to the image (replace 'uploaded_image.jpg' with your file path)\n",
        "image_path = '/content/R.jpg' # Update with your uploaded image file path\n",
        "\n",
        "# Preprocess the image\n",
        "input_image = load_and_preprocess_image(image_path, input_size=(32, 32))\n",
        "\n",
        "# Step 3: Predict using the model\n",
        "predicted_label, confidence = predict_image(resnet_model, input_image, cifar10_classes)\n",
        "\n",
        "# Step 4: Display the image and prediction\n",
        "plt.imshow(np.squeeze(input_image))  # Remove batch dimension for display\n",
        "plt.title(f\"Predicted: {predicted_label} ({confidence:.2f})\")\n",
        "plt.axis('off')\n",
        "plt.show()\n"
      ],
      "metadata": {
        "id": "YRJ8DDj0db3x"
      },
      "execution_count": null,
      "outputs": []
    }
  ]
}